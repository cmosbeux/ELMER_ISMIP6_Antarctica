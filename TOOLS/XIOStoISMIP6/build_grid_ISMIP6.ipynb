{
 "cells": [
  {
   "cell_type": "code",
   "execution_count": 11,
   "metadata": {},
   "outputs": [],
   "source": [
    "# load modules\n",
    "import numpy as np\n",
    "import xarray as xr\n",
    "import pyproj"
   ]
  },
  {
   "cell_type": "code",
   "execution_count": 15,
   "metadata": {},
   "outputs": [],
   "source": [
    "# build x, y\n",
    "xlimits=[-3040000, 3040000]\n",
    "ylimits=[-3040000, 3040000]\n",
    "res=4000\n",
    "cproj='epsg:3031'\n",
    "x=np.arange(xlimits[0],xlimits[1]+1,res)\n",
    "y=np.arange(ylimits[0],ylimits[1]+1,res)"
   ]
  },
  {
   "cell_type": "code",
   "execution_count": 9,
   "metadata": {},
   "outputs": [],
   "source": [
    "#bounds\n",
    "xbnds=np.zeros(shape=(x.shape[0],2))\n",
    "ybnds=np.zeros(shape=(y.shape[0],2))\n",
    "xbnds[:,0]=x-res/2 ; xbnds[:,1]=x+res/2 ;\n",
    "ybnds[:,0]=y-res/2 ; ybnds[:,1]=y+res/2 ;"
   ]
  },
  {
   "cell_type": "code",
   "execution_count": 18,
   "metadata": {},
   "outputs": [],
   "source": [
    "# lat, lon\n",
    "p = pyproj.Proj(cproj)\n",
    "xin ,yin = np.meshgrid(x,y)\n",
    "lon,lat = p(xin,yin,inverse=True)"
   ]
  },
  {
   "cell_type": "code",
   "execution_count": 39,
   "metadata": {},
   "outputs": [],
   "source": [
    "# lat lon bounds\n",
    "lonbnds=np.zeros(shape=(lon.shape[0],lon.shape[1],4))\n",
    "latbnds=np.zeros(shape=(lat.shape[0],lat.shape[1],4))\n",
    "\n",
    "xin ,yin = np.meshgrid(xbnds[:,0],ybnds[:,0]); lonbnds[:,:,0],latbnds[:,:,0]=p(xin,yin,inverse=True)\n",
    "xin ,yin = np.meshgrid(xbnds[:,1],ybnds[:,0]); lonbnds[:,:,1],latbnds[:,:,1]=p(xin,yin,inverse=True)\n",
    "xin ,yin = np.meshgrid(xbnds[:,1],ybnds[:,1]); lonbnds[:,:,2],latbnds[:,:,2]=p(xin,yin,inverse=True)\n",
    "xin ,yin = np.meshgrid(xbnds[:,0],ybnds[:,1]); lonbnds[:,:,3],latbnds[:,:,3]=p(xin,yin,inverse=True)"
   ]
  },
  {
   "cell_type": "code",
   "execution_count": 122,
   "metadata": {},
   "outputs": [],
   "source": [
    "# cell area\n",
    "cell_area=np.zeros(shape=(lon.shape[0],lon.shape[1]))+res**2"
   ]
  },
  {
   "cell_type": "code",
   "execution_count": 147,
   "metadata": {},
   "outputs": [],
   "source": [
    "# define data\n",
    "data_grid = {'lon':(['y','x'],lon,\n",
    "                   {'long_name':'longitude',\n",
    "                   'standard_name':'longitude',\n",
    "                   'units':'degrees_east',\n",
    "                   'bounds':'lon_bnds'}),\n",
    "             'lon_bnds':(['y','x','nv4'],lonbnds),\n",
    "             'lat':(['y','x'],lat,\n",
    "                   {'long_name':'latitude',\n",
    "                   'standard_name':'latitude',\n",
    "                   'units':'degrees_north',\n",
    "                   'bounds':'lat_bnds'}),\n",
    "             'lat_bnds':(['y','x','nv4'],latbnds),\n",
    "             'cell_area':(['y','x'],cell_area,\n",
    "                   {'long_name':'area of grid cell',\n",
    "                   'standard_name':'cell_area',\n",
    "                   'coordinates':'lat lon',\n",
    "                   'units':'m2'}),\n",
    "             'mapping':([],3031,\n",
    "                   {'grid_mapping_name':'Antarctic Polar Stereographic',\n",
    "                    'latitude_of_origin':'-71',\n",
    "                    'central_meridian':'0',\n",
    "                    'false_easting':'0',\n",
    "                    'false_northing':'0',\n",
    "                    'unit':'m',\n",
    "                    'authority':'epsg3031'})\n",
    "            }\n",
    "            \n",
    "            #  'lon2d':(['y','x'],lon,\n",
    "            #        {'long_name':'grid center longitude',\n",
    "            #        'standard_name':'longitude',\n",
    "            #        'units':'degrees_east',\n",
    "            #        'coordinates':'lat lon',\n",
    "            #        '_CoordinateAxisType':\"Lon\"}),\n",
    "            #  'lat2d':(['y','x'],lat,\n",
    "            #        {'long_name':'grid center latitude',\n",
    "            #        'standard_name':'latitude',\n",
    "            #        'units':'degrees_north',\n",
    "            #        'coordinates':'lat lon',\n",
    "            #        '_CoordinateAxisType':\"Lat\"}),\n",
    "# define coordinates\n",
    "coords = {'x': (['x'], x,\n",
    "                {'units':'m',\n",
    "                 'long_name':'x-coordinate in Cartesian system'}),\n",
    "          'y': (['y'], y,\n",
    "                {'units':'m',\n",
    "                 'long_name':'y-coordinate in Cartesian system'})}\n",
    "\n",
    "attrs = {'conventions':\"x_bnds, y_bnds, lon_bnds and lat_bnds follow cf convention: https://cfconventions.org/cf-conventions/cf-conventions.html\"}\n"
   ]
  },
  {
   "cell_type": "code",
   "execution_count": 148,
   "metadata": {},
   "outputs": [],
   "source": [
    "ds = xr.Dataset(data_vars=data_grid, \n",
    "                coords=coords,\n",
    "                attrs=attrs)"
   ]
  },
  {
   "cell_type": "code",
   "execution_count": 153,
   "metadata": {},
   "outputs": [],
   "source": [
    "ds.to_netcdf('ISMIP6_grid_AIS_'+str(res)+'m.nc')"
   ]
  }
 ],
 "metadata": {
  "kernelspec": {
   "display_name": "Python 3.7.10 ('elmer')",
   "language": "python",
   "name": "python3"
  },
  "language_info": {
   "codemirror_mode": {
    "name": "ipython",
    "version": 3
   },
   "file_extension": ".py",
   "mimetype": "text/x-python",
   "name": "python",
   "nbconvert_exporter": "python",
   "pygments_lexer": "ipython3",
   "version": "3.7.10"
  },
  "orig_nbformat": 4,
  "vscode": {
   "interpreter": {
    "hash": "6bcf6a74ff6f2e74ef8f06723f0015d0cb1efc9e4ee4501821849b6432fc6e49"
   }
  }
 },
 "nbformat": 4,
 "nbformat_minor": 2
}
